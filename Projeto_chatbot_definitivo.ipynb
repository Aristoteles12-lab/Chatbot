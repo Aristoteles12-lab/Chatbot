{
 "cells": [
  {
   "cell_type": "code",
   "execution_count": 2,
   "id": "96efb314",
   "metadata": {},
   "outputs": [],
   "source": [
    "# Chatbot usando TensorFlow e NLTK \n",
    "import json\n",
    "import numpy as np\n",
    "import random\n",
    "import nltk\n",
    "from nltk.stem import WordNetLemmatizer\n",
    "import tensorflow as tf\n",
    "from tensorflow.keras.models import Sequential\n",
    "from tensorflow.keras.layers import Dense, Dropout\n",
    "from tensorflow.keras.optimizers import Adam"
   ]
  },
  {
   "cell_type": "code",
   "execution_count": 3,
   "id": "f5f184c9",
   "metadata": {},
   "outputs": [],
   "source": [
    "# Reprodutibilidade\n",
    "random.seed(42)\n",
    "np.random.seed(42)\n",
    "tf.random.set_seed(42)"
   ]
  },
  {
   "cell_type": "code",
   "execution_count": 4,
   "id": "37160839",
   "metadata": {},
   "outputs": [],
   "source": [
    "# NLTK \n",
    "nltk.download('punkt', quiet=True)\n",
    "nltk.download('wordnet', quiet=True)\n",
    "nltk.download('omw-1.4', quiet=True)\n",
    "lemmatizer = WordNetLemmatizer()\n",
    "ignore_words = ['?', '!', '.', ',', '´', '`', '``', \"''\"]"
   ]
  },
  {
   "cell_type": "code",
   "execution_count": 5,
   "id": "58f21fe1",
   "metadata": {},
   "outputs": [],
   "source": [
    "#dataset\n",
    "intents = {\n",
    "    \"intents\": [\n",
    "        {\"tag\": \"troca\", \"patterns\": [\"Quero trocar o produto\", \"Meu produto veio com defeito\", \"Posso devolver?\"]},\n",
    "        {\"tag\": \"garantia\", \"patterns\": [\"Qual o tempo de garantia?\", \"Minha garantia venceu?\", \"O que cobre a garantia?\", \n",
    "                                         \"Como funciona a garanta?\"]},\n",
    "        {\"tag\": \"pedido\", \"patterns\": [\"Qual o status do meu pedido?\", \"Quer acompanhar a entrega\", \"Onde está minha compra?\", \n",
    "                                       \"Rastrear pedido\"]},\n",
    "        {\"tag\": \"saudacao\", \"patterns\": [\"Oi\", \"Olá\", \"Boa tarde\", \"Bom dia\"]}\n",
    "    ]\n",
    "}\n",
    "\n",
    "respostas = {\n",
    "    \"troca\": \"Claro! Por favor, envie o número do seu pedido para prosseguirmos com a troca.\",\n",
    "    \"garantia\": \"Nossa garantia é de 12 meses. Posso verificar o status da sua cobertra.\",\n",
    "    \"pedido\": \"Você pode acompanhar seu pedido neste link: ...\",\n",
    "    \"saudacao\": \"Olá! Seja bem-vindo ao nosso atendimento. Como posso ajudar?\"\n",
    "}\n"
   ]
  },
  {
   "cell_type": "code",
   "execution_count": 6,
   "id": "0b3e7c7e",
   "metadata": {},
   "outputs": [],
   "source": [
    "#Tokenização e lematização\n",
    "def tokenize_and_lemmatize(text: str):\n",
    "    tokens = nltk.word_tokenize(text.lower())\n",
    "    tokens = [t for t in tokens if t not in ignore_words]\n",
    "    tokens = [lemmatizer.lemmatize(t) for t in tokens]\n",
    "    return tokens\n",
    "\n",
    "words, classes, documents = [], [], []\n",
    "for intent in intents['intents']:\n",
    "    tag = intent['tag']\n",
    "    if tag not in classes:\n",
    "        classes.append(tag)\n",
    "    for pattern in intent['patterns']:\n",
    "        toks = tokenize_and_lemmatize(pattern)\n",
    "        words.extend(toks)\n",
    "        documents.append((toks, tag))\n",
    "\n",
    "words = sorted(list(set(words)))\n",
    "classes = sorted(classes)"
   ]
  },
  {
   "cell_type": "code",
   "execution_count": 7,
   "id": "b80202a4",
   "metadata": {},
   "outputs": [],
   "source": [
    "#Vetorização\n",
    "def vetorizar(frase: str):\n",
    "    toks = tokenize_and_lemmatize(frase)\n",
    "    bag = [1 if w in toks else 0 for w in words]\n",
    "    return np.array(bag, dtype=int)\n",
    "\n"
   ]
  },
  {
   "cell_type": "code",
   "execution_count": 8,
   "id": "acbb2bc6",
   "metadata": {},
   "outputs": [
    {
     "name": "stdout",
     "output_type": "stream",
     "text": [
      "Treinando modelo...\n",
      "Modelo concluído.\n"
     ]
    }
   ],
   "source": [
    "#Cosntruindo o modelo\n",
    "train_x, train_y = [], []\n",
    "for doc in documents:\n",
    "    bag = [1 if w in doc[0] else 0 for w in words]\n",
    "    train_x.append(bag)\n",
    "    train_y.append(classes.index(doc[1]))\n",
    "\n",
    "train_x = np.array(train_x)\n",
    "train_y = np.array(train_y)\n",
    "\n",
    "model_tf = Sequential([\n",
    "    Dense(128, input_shape=(len(train_x[0]),), activation='relu'),\n",
    "    Dropout(0.5),\n",
    "    Dense(64, activation='relu'),\n",
    "    Dropout(0.5),\n",
    "    Dense(len(classes), activation='softmax')\n",
    "])\n",
    "model_tf.compile(loss='sparse_categorical_crossentropy', optimizer=Adam(learning_rate=0.01), metrics=['accuracy'])\n",
    "print(\"Treinando modelo...\")\n",
    "model_tf.fit(train_x, train_y, epochs=200, batch_size=8, verbose=0)\n",
    "print(\"Modelo concluído.\")"
   ]
  },
  {
   "cell_type": "code",
   "execution_count": 9,
   "id": "24369763",
   "metadata": {},
   "outputs": [],
   "source": [
    "\n",
    "def classificar_intencao(frase: str):\n",
    "    bag = vetorizar(frase)\n",
    "    probs = model_tf.predict(np.array([bag]), verbose=0)[0]\n",
    "    idx = int(np.argmax(probs))\n",
    "    return classes[idx], float(probs[idx])"
   ]
  },
  {
   "cell_type": "code",
   "execution_count": 10,
   "id": "17c65839",
   "metadata": {},
   "outputs": [],
   "source": [
    "def responder(frase: str):\n",
    "    tag, conf = classificar_intencao(frase)\n",
    "    resp = respostas.get(tag, \"Desculpe, não entendi sua solicitação.\")\n",
    "    return resp, tag, conf\n"
   ]
  },
  {
   "cell_type": "code",
   "execution_count": 12,
   "id": "46cbda7d",
   "metadata": {},
   "outputs": [
    {
     "name": "stdout",
     "output_type": "stream",
     "text": [
      "Chatbot prototipo — simulação de teste\n",
      "\n",
      "Você: Oi\n",
      "Bot: Olá! Seja bem-vindo ao nosso atendimento. Como posso ajudar?\n",
      "  -> intenção: saudacao, confiança: 1.00\n",
      "\n",
      "Você: Quero trocar meu produto com defeito\n",
      "Bot: Claro! Por favor, envie o número do seu pedido para prosseguirmos com a troca.\n",
      "  -> intenção: troca, confiança: 1.00\n",
      "\n",
      "Você: Qual a garanta?\n",
      "Bot: Nossa garantia é de 12 meses. Posso verificar o status da sua cobertra.\n",
      "  -> intenção: garantia, confiança: 1.00\n",
      "\n",
      "Você: Como está meu pedido?\n",
      "Bot: Você pode acompanhar seu pedido neste link: ...\n",
      "  -> intenção: pedido, confiança: 1.00\n",
      "\n",
      "Você: Meu aparelho está com defeito e quero devolver\n",
      "Bot: Claro! Por favor, envie o número do seu pedido para prosseguirmos com a troca.\n",
      "  -> intenção: troca, confiança: 1.00\n",
      "\n",
      "Você: Olá preciso conserto\n",
      "Bot: Olá! Seja bem-vindo ao nosso atendimento. Como posso ajudar?\n",
      "  -> intenção: saudacao, confiança: 1.00\n",
      "\n"
     ]
    }
   ],
   "source": [
    "testes = [\n",
    "    \"Oi\",\n",
    "    \"Quero trocar meu produto com defeito\",\n",
    "    \"Qual a garanta?\",\n",
    "    \"Como está meu pedido?\",\n",
    "    \"Meu aparelho está com defeito e quero devolver\",\n",
    "    \"Olá preciso conserto\"\n",
    "]\n",
    "\n",
    "print(\"Chatbot-prototipo — simulação de teste\\n\")\n",
    "for entrada in testes:\n",
    "    resposta_texto, tag, conf = responder(entrada)\n",
    "    print(f\"Você: {entrada}\")\n",
    "    print(f\"Bot: {resposta_texto}\")\n",
    "    print(f\"  -> intenção: {tag}, confiança: {conf:.2f}\\n\")"
   ]
  },
  {
   "cell_type": "code",
   "execution_count": null,
   "id": "3b561084",
   "metadata": {},
   "outputs": [],
   "source": []
  },
  {
   "cell_type": "code",
   "execution_count": null,
   "id": "c3e1c9ee",
   "metadata": {},
   "outputs": [],
   "source": []
  }
 ],
 "metadata": {
  "kernelspec": {
   "display_name": "Python 3 (ipykernel)",
   "language": "python",
   "name": "python3"
  },
  "language_info": {
   "codemirror_mode": {
    "name": "ipython",
    "version": 3
   },
   "file_extension": ".py",
   "mimetype": "text/x-python",
   "name": "python",
   "nbconvert_exporter": "python",
   "pygments_lexer": "ipython3",
   "version": "3.9.13"
  }
 },
 "nbformat": 4,
 "nbformat_minor": 5
}
